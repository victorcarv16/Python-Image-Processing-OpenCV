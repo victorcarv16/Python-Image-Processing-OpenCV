{
  "nbformat": 4,
  "nbformat_minor": 0,
  "metadata": {
    "colab": {
      "name": "Untitled2.ipynb",
      "provenance": [],
      "collapsed_sections": [],
      "authorship_tag": "ABX9TyOlY1aa/kSQAWclYlK25prv",
      "include_colab_link": true
    },
    "kernelspec": {
      "name": "python3",
      "display_name": "Python 3"
    },
    "language_info": {
      "name": "python"
    }
  },
  "cells": [
    {
      "cell_type": "markdown",
      "metadata": {
        "id": "view-in-github",
        "colab_type": "text"
      },
      "source": [
        "<a href=\"https://colab.research.google.com/github/victorcarv16/Python-Processamento-de-imagem/blob/master/Untitled2.ipynb\" target=\"_parent\"><img src=\"https://colab.research.google.com/assets/colab-badge.svg\" alt=\"Open In Colab\"/></a>"
      ]
    },
    {
      "cell_type": "code",
      "metadata": {
        "id": "G9F9QfN9clq7"
      },
      "source": [
        "#MÉTODO DE Steepest Descent \n",
        "#2° QUESTÃO Função de Ackley\n",
        "\n",
        "import numpy as np\n",
        "import sympy as sym   #Para criar variáveis simbólicas.\n",
        "import pandas as pd\n",
        "import numpy as np\n",
        "\n",
        "def gradiente_simbolico(funcao,variaveis):\n",
        "     g = [sym.diff(funcao,x) for x in variaveis]\n",
        "     return g\n",
        "def hessiana_simbolico(grad_simb,variaveis):\n",
        "     H = []\n",
        "     for f in grad_simb:\n",
        "         H.append(gradiente_simbolico(f,variaveis))\n",
        "     return H    \n",
        "\n",
        "def eval_simbolica(f,variaveis,x):\n",
        "   mp = dict()\n",
        "   for i in range(len(variaveis)):\n",
        "      mp[variaveis[i]] = x[i]\n",
        "   return float(f.subs(mp))\n",
        "\n",
        "def eval_gradiente(grad_simb,variaveis,x):\n",
        "   g = [ eval_simbolica(f,variaveis,x) for f in grad_simb]\n",
        "   return g\n",
        "def eval_hessiana(hess_simb,variaveis,x):\n",
        "    H = []\n",
        "    for i in range(len(hess_simb)):\n",
        "       linha = []\n",
        "       for f in hess_simb[i]:\n",
        "         linha.append(eval_simbolica(f,variaveis,x))\n",
        "       H.append(linha)  \n",
        "    return H\n",
        "        \n",
        "\n",
        "x1 = sym.Symbol('x1')\n",
        "x2 = sym.Symbol('x2')     \n",
        "variaveis=[x1,x2]\n",
        "fo = (x1 - 2)**4 + (x1 - 2*x2)**2     \n",
        "grad_simb     = gradiente_simbolico(fo,variaveis)     \n",
        "hessiana_simb = hessiana_simbolico(grad_simb,variaveis)\n",
        "\n",
        "\n",
        "x =[0,3]\n",
        "g = eval_gradiente(grad_simb,variaveis,x)\n",
        "print('Gradiente: ',g)\n",
        "H = eval_hessiana(hessiana_simb,variaveis,x)\n",
        "print('Hessiana', H)\n",
        "\n",
        "cols = ['Iteração','X(k)','Vetor gradiente','H','inv(H)','Aproximacao','X(k+1)']\n",
        "df = pd.DataFrame([], columns=cols)\n",
        "k=1 #Inicialização do número de iterações\n",
        "erro= 10\n",
        "while (abs(erro) > 1e-3): #Tabela de convergência\n",
        "  erro=g[0]*g[0]+g[1]*g[1]\n",
        "  aprox=np.linalg.solve(H,g)\n",
        "  H_inv=np.linalg.inv(H)\n",
        "  row=pd.DataFrame([[k,x,g,H,H_inv,-aprox,x-aprox]],columns=cols)\n",
        "  df = df.append(row, ignore_index=True)\n",
        "  x= x-np.linalg.solve(H,g)\n",
        "  g = eval_gradiente(grad_simb,variaveis,x)\n",
        "  H = eval_hessiana(hessiana_simb,variaveis,x)\n",
        "  k+=1\n",
        "df  \n",
        "\n"
      ],
      "execution_count": null,
      "outputs": []
    }
  ]
}